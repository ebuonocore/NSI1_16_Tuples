{
 "cells": [
  {
   "cell_type": "markdown",
   "metadata": {},
   "source": [
    "<div style=\"width:100%;border-collapse:separate;border:solid 2px;border-radius:14px;\">\n",
    "    <div style=\"display:flex;\">\n",
    "        <div style=\"display:inline;width:5%;\"></div>\n",
    "        <div style=\"display:inline;width:15%;\">NSI41T</div>\n",
    "        <div style=\"display:inline;width:15%;\">e16a</div>\n",
    "        <div style=\"display:inline;width:70%;text-align:right;\"><b>Représentation des données</b></div>\n",
    "        <div style=\"display:inline;width:5%;\"></div>\n",
    "    </div>\n",
    "    <div  style=\"display: flex;background-color:#EEE\">\n",
    "        <p style=\"width:100%;text-align:center;\">Types construits </p>\n",
    "    </div>\n",
    "    <div  style=\"display: flex;\">\n",
    "        <p style=\"width:100%;text-align:center;\">P-uplets</p>\n",
    "    </div>\n",
    "</div>"
   ]
  },
  {
   "cell_type": "markdown",
   "metadata": {},
   "source": [
    "<div class = \"alert alert-success\">\n",
    "    \n",
    "**Objectifs de la séquence:**\n",
    "Définition et utilisation des p-uplets (type tuple) "
   ]
  },
  {
   "cell_type": "markdown",
   "metadata": {},
   "source": [
    "<div class = \"alert alert-info\">\n",
    "    \n",
    "**Sommaire:**\n",
    "\n",
    "- Définition et syntaxe\n",
    "- Caractéristiques\n",
    "- Conséquences: Affectation multiple, retour de fonctions\n",
    "- Défi 1: Parallélogramme\n",
    "- Défi 2: Jeu de fléchettes\n",
    "- Défis du tireur d'élite"
   ]
  },
  {
   "cell_type": "markdown",
   "metadata": {},
   "source": [
    "<div class = \"alert alert-success\">\n",
    "\n",
    "**Définition et syntaxe**\n",
    "\n",
    "Un p-uplet est un ensemble de valeurs séparées par des virgules, classiquement entourées de parenthèses."
   ]
  },
  {
   "cell_type": "code",
   "execution_count": 15,
   "metadata": {},
   "outputs": [],
   "source": [
    "mon_tuple = (2, 4, 6, 9)"
   ]
  },
  {
   "cell_type": "code",
   "execution_count": 16,
   "metadata": {},
   "outputs": [
    {
     "data": {
      "text/plain": [
       "tuple"
      ]
     },
     "execution_count": 16,
     "metadata": {},
     "output_type": "execute_result"
    }
   ],
   "source": [
    "type(mon_tuple)"
   ]
  },
  {
   "cell_type": "markdown",
   "metadata": {},
   "source": [
    "Remarque en passant:  \n",
    "On rencontre indiféremment les dénominations de p-uplet, n-uplet ou k-uplet pour désigner le type <b>tuple</b>.  \n",
    "n, p ou k étant un entier.  \n",
    "Des p-uplets de 3 ou 6 valeurs seront respectivement un 3-uplet ou un 6-uplet.  \n",
    "Dans l'exemple précédent, <code>mon_tuple</code> est un 4-uplet.\n",
    "\n",
    "Pour un 2-ulplet, on peut parler de <b>couple</b>.  \n",
    "\n",
    "Les p-uplets possèdes des caractéristiques communues avec les listes:  \n",
    "- Chaque élément du p-uplet est indicé (il possède un indice)"
   ]
  },
  {
   "cell_type": "code",
   "execution_count": 2,
   "metadata": {},
   "outputs": [
    {
     "data": {
      "text/plain": [
       "6"
      ]
     },
     "execution_count": 2,
     "metadata": {},
     "output_type": "execute_result"
    }
   ],
   "source": [
    "mon_tuple[2]"
   ]
  },
  {
   "cell_type": "markdown",
   "metadata": {},
   "source": [
    "- On peut en calculer le nombre d'éléments avec <code>len()</code>.\n",
    "\n",
    "- Les p-uplets sont itérables:"
   ]
  },
  {
   "cell_type": "code",
   "execution_count": 3,
   "metadata": {},
   "outputs": [
    {
     "name": "stdout",
     "output_type": "stream",
     "text": [
      "2 4 6 9 "
     ]
    }
   ],
   "source": [
    "for truc in mon_tuple: # truc est l'itérateur de mon_tuple. Il va prendre successivement toutes ses valeurs.\n",
    "    print(truc, end=\" \")"
   ]
  },
  {
   "cell_type": "markdown",
   "metadata": {},
   "source": [
    "Contrairement aux listes, par contre, les p-uplets ne sont <b>pas mutables</b>.  \n",
    "Si vous essayez de modifier un élément..."
   ]
  },
  {
   "cell_type": "code",
   "execution_count": 4,
   "metadata": {},
   "outputs": [
    {
     "ename": "TypeError",
     "evalue": "'tuple' object does not support item assignment",
     "output_type": "error",
     "traceback": [
      "\u001b[1;31m---------------------------------------------------------------------------\u001b[0m",
      "\u001b[1;31mTypeError\u001b[0m                                 Traceback (most recent call last)",
      "\u001b[1;32m<ipython-input-4-37b1fdd6ec2a>\u001b[0m in \u001b[0;36m<module>\u001b[1;34m\u001b[0m\n\u001b[1;32m----> 1\u001b[1;33m \u001b[0mmon_tuple\u001b[0m\u001b[1;33m[\u001b[0m\u001b[1;36m2\u001b[0m\u001b[1;33m]\u001b[0m \u001b[1;33m=\u001b[0m \u001b[1;36m4\u001b[0m\u001b[1;33m\u001b[0m\u001b[1;33m\u001b[0m\u001b[0m\n\u001b[0m",
      "\u001b[1;31mTypeError\u001b[0m: 'tuple' object does not support item assignment"
     ]
    }
   ],
   "source": [
    "mon_tuple[2] = 4"
   ]
  },
  {
   "cell_type": "markdown",
   "metadata": {},
   "source": [
    "Vous obtenez un message d'erreur !  \n",
    "Cette limitation peut-être vue aussi comme une protection.\n",
    "\n",
    "Les p-uplets peuvent contenir des valeurs de types différents:"
   ]
  },
  {
   "cell_type": "code",
   "execution_count": 5,
   "metadata": {},
   "outputs": [
    {
     "data": {
      "text/plain": [
       "[1, 2, 3, 4, 5, 6]"
      ]
     },
     "execution_count": 5,
     "metadata": {},
     "output_type": "execute_result"
    }
   ],
   "source": [
    "tuple_bizarre = (\"Coucou\", 2, [1,2,3,4,5,6], 3.5)\n",
    "tuple_bizarre [2]"
   ]
  },
  {
   "cell_type": "markdown",
   "metadata": {},
   "source": [
    "Ce dernier, par exemple, contient la chaîne de caractères \"Coucou\", un entier (2), une liste et un flottant (3.5)  \n",
    "\n",
    "Le p-uplet n'est pas mutable, mais la liste, elle, le reste. Il est donc possible de modifier un élément de la liste du p-uplet:"
   ]
  },
  {
   "cell_type": "code",
   "execution_count": null,
   "metadata": {},
   "outputs": [],
   "source": [
    "tuple_bizarre [2][1] = 0 # je modifie l'élément d'indice 1 de la liste comprise dans le p-uplet.\n",
    "tuple_bizarre"
   ]
  },
  {
   "cell_type": "markdown",
   "metadata": {},
   "source": [
    "Lors de l'affectation, vous pouvez ne pas mettre les parenthèses."
   ]
  },
  {
   "cell_type": "code",
   "execution_count": 6,
   "metadata": {},
   "outputs": [
    {
     "data": {
      "text/plain": [
       "(1, 'e', 4.0)"
      ]
     },
     "execution_count": 6,
     "metadata": {},
     "output_type": "execute_result"
    }
   ],
   "source": [
    "tuple_etrange = 1,'e',4.0 # p-uplet déclaré sans parenthèse\n",
    "tuple_etrange"
   ]
  },
  {
   "cell_type": "markdown",
   "metadata": {},
   "source": [
    "<b>Conséquences:</b>  \n",
    "<u>Affectation mutiple:</u>  Il est possible d'affecter simultanément plusieurs variables."
   ]
  },
  {
   "cell_type": "code",
   "execution_count": 7,
   "metadata": {},
   "outputs": [
    {
     "name": "stdout",
     "output_type": "stream",
     "text": [
      "a= 1   b= e   c= 4.0\n"
     ]
    }
   ],
   "source": [
    "a, b, c = 1, 'e', 4.0\n",
    "print ('a=',a,'  b=',b,'  c=',c)"
   ]
  },
  {
   "cell_type": "markdown",
   "metadata": {},
   "source": [
    "<u>Retour de fonction</u>: Une fonction peut renvoyer plusieurs valeurs via un p-uplet:"
   ]
  },
  {
   "cell_type": "code",
   "execution_count": 8,
   "metadata": {},
   "outputs": [
    {
     "name": "stdout",
     "output_type": "stream",
     "text": [
      "Opérations sur 8 et 2\n",
      "Addition: 10   Soustraction: 6\n",
      "Multiplication: 16   Division: 4.0\n"
     ]
    }
   ],
   "source": [
    "def arithmétique(x,y):\n",
    "    \"\"\" int * int -> int * int * int * float\n",
    "    Précondition: y non-nul\n",
    "    Renvoie les résultats des 4 opérations de base\n",
    "    \"\"\"\n",
    "    t = x+y\n",
    "    s = x-y\n",
    "    m = x*y\n",
    "    d = x/y\n",
    "    return t,s,m,d # la fonction renvoie 4 valeurs dans un p-uplet\n",
    "\n",
    "total, soustraction, multiplication, division = arithmétique(8,2) # appel de la fonction arithmétique\n",
    "print(\"Opérations sur 8 et 2\")\n",
    "print(\"Addition:\",total,\"  Soustraction:\",soustraction)\n",
    "print(\"Multiplication:\",multiplication,\"  Division:\",division)"
   ]
  },
  {
   "cell_type": "markdown",
   "metadata": {},
   "source": [
    "<u>Défi 1:</u>  \n",
    "Soit 4 points A, B, C et D.  \n",
    "Leurs coordonnées dans un repère cartésien sont représentées sous la forme de couples (ou 2-uplets):  "
   ]
  },
  {
   "cell_type": "code",
   "execution_count": 1,
   "metadata": {},
   "outputs": [],
   "source": [
    "A = (-1.0, -2.0) # Le point A a pour abscisse -1.0 et pour ordonnée -2.0\n",
    "B = (-1.5, 1.0)\n",
    "C = (1.5, 1.5)\n",
    "D = (2.0, -1.5)"
   ]
  },
  {
   "cell_type": "markdown",
   "metadata": {},
   "source": [
    "Tracé des points dans le repère:  \n",
    "Complétez le programme ci-dessous en construisant la liste des ordonnées des points nommée 'y'"
   ]
  },
  {
   "cell_type": "code",
   "execution_count": 4,
   "metadata": {},
   "outputs": [
    {
     "data": {
      "image/png": "[encoded data removed]",
      "text/plain": [
       "<Figure size 432x288 with 1 Axes>"
      ]
     },
     "metadata": {
      "needs_background": "light"
     },
     "output_type": "display_data"
    }
   ],
   "source": [
    "import matplotlib.pyplot as plt # importation de la bibliothèque\n",
    "\n",
    "x = [A[0], B[0], C[0], D[0]] # liste des abscisse des 4 points\n",
    " # construisez 'y', la liste des ordonnées des 4 points\n",
    "\n",
    "plt.plot (x, y, 'ro') # la méthode plot du module matplotlib.pyplot permet de tracer un graphique\n",
    "plt.axis('equal') # repère orthonormé\n",
    "plt.grid() # affiche la grille\n",
    "plt.show() # affiche le graphique"
   ]
  },
  {
   "cell_type": "markdown",
   "metadata": {},
   "source": [
    "Soit 2 points dont les coordonnées sont représentés par 2 couples de flottants (Deux 2-uplets de flottants).  \n",
    "Par exemple: E=(1.45,2.13) et F=(2.0,5.2)  \n",
    "Construire la fonction <code>distance</code> qui prend en paramètres les couples de coordonnées de deux points et renvoie la distance entre ces 2 points.  \n",
    "<u>Rappel:</u> La distance entre deux points E et F de coordonnées respectives (xe,ye) et (xf,yf) est égale à  $$\\sqrt{(xf-xe)^2 + (yf-ye)^2}$$"
   ]
  },
  {
   "cell_type": "code",
   "execution_count": 6,
   "metadata": {},
   "outputs": [
    {
     "data": {
      "text/plain": [
       "3.0413812651491097"
      ]
     },
     "execution_count": 6,
     "metadata": {},
     "output_type": "execute_result"
    }
   ],
   "source": [
    "from math import sqrt # importation de sqrt() permettant de calculer la racine carrée\n",
    "def distance (E,F):\n",
    "    \"\"\" tuple * tuple -> float\n",
    "    Préconditions: E et F sont des couples de flottants représentants les coordonnées des points\n",
    "    Renvoie la distance entre E et F\n",
    "    \"\"\"\n",
    "    xe = E [0] # xe et ye prennent les valeurs de l'abscisse et de l'ordonéne de E\n",
    "    ye = E [1] \n",
    "    # faites la même chose pour les coordonnées de F, xf et yf\n",
    " \n",
    "\n",
    "\n",
    "    return # précisez ici le calcul à renvoyer\n",
    "    \n",
    "distance(A,B) # test : si la fonction répond bien, cette distance doit être comprise entre 3.0 et 3.1"
   ]
  },
  {
   "cell_type": "markdown",
   "metadata": {},
   "source": [
    "En calculant plusieurs distances, donnez des pistes qui montre que ABCD est sans doute un carré.  \n",
    "Remarque: La comparaison de nombres flottants est périlleuse mais dans ce cas, elle peut donner un indice."
   ]
  },
  {
   "cell_type": "code",
   "execution_count": 7,
   "metadata": {},
   "outputs": [
    {
     "data": {
      "text/plain": [
       "0.0"
      ]
     },
     "execution_count": 7,
     "metadata": {},
     "output_type": "execute_result"
    }
   ],
   "source": []
  },
  {
   "cell_type": "code",
   "execution_count": 22,
   "metadata": {},
   "outputs": [
    {
     "data": {
      "text/plain": [
       "True"
      ]
     },
     "execution_count": 22,
     "metadata": {},
     "output_type": "execute_result"
    }
   ],
   "source": []
  },
  {
   "cell_type": "markdown",
   "metadata": {},
   "source": [
    "<u>Défi 2:</u> Jeu de fléchettes  \n",
    "Le programme suivant tire au hasard la position des 10 points dans un repère cartésien.  \n",
    "Les points sont stockés dans la iste <code>liste_points</code>  \n",
    "Ainsi <code>liste_points[i]</code> renvoie les coordonnées du ième point sous la forme d'un p-uplet: <code>liste_points[i][0]</code>pour l'abscisse et <code>liste_points[i][1]</code> pour l'ordonnée."
   ]
  },
  {
   "cell_type": "code",
   "execution_count": 9,
   "metadata": {},
   "outputs": [
    {
     "data": {
      "text/plain": [
       "[(132, -43),\n",
       " (16, 117),\n",
       " (61, 54),\n",
       " (72, -24),\n",
       " (85, -31),\n",
       " (84, 118),\n",
       " (70, 24),\n",
       " (4, 22),\n",
       " (-7, 125),\n",
       " (36, 127)]"
      ]
     },
     "execution_count": 9,
     "metadata": {},
     "output_type": "execute_result"
    }
   ],
   "source": [
    "from random import randint\n",
    "\n",
    "def ajout_point():\n",
    "    \"\"\" Notype -> tuple\n",
    "    Pas de précondition\n",
    "    Tire un couple de deux entiers correspondants aux position d'un point\n",
    "    \"\"\"\n",
    "    xp = randint(-50,150) # tire au hasard l'abscisse du point\n",
    "    yp = randint(-50,150) # tire au hasard l'ordonnée du point\n",
    "    return (xp,yp)\n",
    "    \n",
    "liste_points = [] # initialisation préalable de la liste\n",
    "\n",
    "for i in range (10):\n",
    "    liste_points.append(ajout_point()) # ajout à chaque itération d'un couple de coordonnées dans la liste\n",
    "\n",
    "liste_points # affiche la liste des coordonnées de points. liste_points est une liste de p-uplets."
   ]
  },
  {
   "cell_type": "markdown",
   "metadata": {},
   "source": [
    "En vous inspirant du défi précédent, affichez le repère avec les 10 points de la liste <code>liste_points</code>  \n",
    "<u>Note:</u> Il faut créer les listes x et y contenant l'abscisse de chaque point et leur ordonnée.  \n",
    "Exemple: Pour la succession des points A=(1.0,2.0) B=(-1.1,2.1) et C=(2.2,-4)  \n",
    "x = [1.0, -1.1, 2.2] et y = [2.0, 2.1, -4]"
   ]
  },
  {
   "cell_type": "code",
   "execution_count": 30,
   "metadata": {},
   "outputs": [
    {
     "data": {
      "image/png": "[encoded data removed]",
      "text/plain": [
       "<Figure size 432x288 with 1 Axes>"
      ]
     },
     "metadata": {
      "needs_background": "light"
     },
     "output_type": "display_data"
    }
   ],
   "source": [
    "%matplotlib inline \n",
    "# commande 'Magic' nécessaire pour l'utilisation de matplotlib dans le Notebook\n",
    "\n",
    "import matplotlib.pyplot as plt # importation de la bibliothèque pour dessiner le graphe\n",
    "import matplotlib.image as mpimg # importation de la bibliothèque pour insérer l'image\n",
    "\n",
    "# Créez ici la liste 'x' qui contient les abscisses des points\n",
    "\n",
    "# Créez ici la liste 'y' qui contient les ordonnées des points\n",
    "\n",
    "\n",
    "# fonction d'affichage 'plot'\n",
    "plt.axis([-50,150,-50,150]) # paramétrez les dimensions des axes. Les tirs vont de -50 à  150 sur chaque axe\n",
    "plt.grid()\n",
    "\n",
    "cible = mpimg.imread('img/cible.png') # importation de l'image de la cible\n",
    "imgplot = plt.imshow(cible) # affichage de la cible\n",
    "\n",
    "plt.show()"
   ]
  },
  {
   "cell_type": "markdown",
   "metadata": {},
   "source": [
    "Calculez la distance moyenne des 10 lancés."
   ]
  },
  {
   "cell_type": "code",
   "execution_count": 41,
   "metadata": {},
   "outputs": [
    {
     "data": {
      "text/plain": [
       "18.434499765821446"
      ]
     },
     "execution_count": 41,
     "metadata": {},
     "output_type": "execute_result"
    }
   ],
   "source": [
    "somme = 0 # initialisation de la somme\n",
    "for i in range(10):\n",
    "    P = liste_points[i] # P récupère les coordonnées du ième point\n",
    "    O = (50,50) # O est l'origine (le centre de la cible)\n",
    "    # calcul de la distance entre P et O\n",
    "    # accumulation des distances dans la variable somme\n",
    "# moyenne des 10 distances\n",
    "# affichage de la moyenne"
   ]
  },
  {
   "cell_type": "markdown",
   "metadata": {},
   "source": [
    "Si la distance est supérieure à 50, la fléchette n'est pas dans la cible.  \n",
    "Donnez le programme qui renvoie le nombre de fléchettes dans la cible."
   ]
  },
  {
   "cell_type": "code",
   "execution_count": 42,
   "metadata": {},
   "outputs": [
    {
     "data": {
      "text/plain": [
       "10"
      ]
     },
     "execution_count": 42,
     "metadata": {},
     "output_type": "execute_result"
    }
   ],
   "source": [
    "def dans_la_cible(ma_liste):\n",
    "    \"\"\" list -> int\n",
    "    ma_liste est la liste des positions des fléchettes\n",
    "    Renvoie le nombre de fléchettes à une distance inférieure ou égale à 50\n",
    "    \"\"\"\n",
    "    compteur = 0 # initialisation du compteur\n",
    "    for i in range(10): # boucle sur les 10 lancés\n",
    "        P = ma_liste[i] # P récupère les coordonnées du ième point\n",
    "        O = (50,50) # O est l'origine (le centre de la cible)\n",
    "        # calcul de la distance entre P et O\n",
    "        #test si la distance est inférieure ou égale à 50\n",
    "            # si c'est vrai, on ajoute 1 au compteur\n",
    "    return compteur # renvoie le nombre de fléchettes dans la cible\n",
    "\n",
    "dans_la_cible(liste_points)    "
   ]
  },
  {
   "cell_type": "markdown",
   "metadata": {},
   "source": [
    "<u>Défi du tireur d'élite:</u> Modifiez la fonction <code>ajout_point</code> pour que toutes les fléchettes tombent dans la cible (à une distance inférieure à 30 du centre par exemple)"
   ]
  },
  {
   "cell_type": "markdown",
   "metadata": {},
   "source": [
    "<u>Défi ultime du tireur d'élite excentrique:</u> Modifiez la fonction <code>ajout_point</code> pour que toutes les fléchettes tombent sur le cercle de centre O(50,50) et de rayon 30."
   ]
  },
  {
   "cell_type": "markdown",
   "metadata": {},
   "source": [
    "---\n",
    "<p style=\"font-family:Comic Sans MS; text-align: center; color:gray; font-size: x-small; \">- Eric Buonocore. Janvier 2021 -<br></p>\n",
    "\n",
    "![Licence CC BY NC SA](https://licensebuttons.net/l/by-nc-sa/3.0/88x31.png)"
   ]
  }
 ],
 "metadata": {
  "kernelspec": {
   "display_name": "Python 3",
   "language": "python",
   "name": "python3"
  },
  "language_info": {
   "codemirror_mode": {
    "name": "ipython",
    "version": 3
   },
   "file_extension": ".py",
   "mimetype": "text/x-python",
   "name": "python",
   "nbconvert_exporter": "python",
   "pygments_lexer": "ipython3",
   "version": "3.7.3"
  }
 },
 "nbformat": 4,
 "nbformat_minor": 2
}
